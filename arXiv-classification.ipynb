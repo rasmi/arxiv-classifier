{
 "metadata": {
  "name": "",
  "signature": "sha256:6928df36716da436493a2f8c28ccc753153f77b87ef85556b9cd149d4ad5db41"
 },
 "nbformat": 3,
 "nbformat_minor": 0,
 "worksheets": [
  {
   "cells": [
    {
     "cell_type": "code",
     "collapsed": false,
     "input": [
      "%matplotlib inline\n",
      "import pandas as pd\n",
      "import numpy as np\n",
      "import requests\n",
      "import json\n",
      "import os\n",
      "import matplotlib.pyplot as plt\n",
      "from bs4 import BeautifulSoup\n",
      "from sklearn.feature_extraction.text import CountVectorizer, TfidfTransformer\n",
      "from sklearn.naive_bayes import MultinomialNB\n",
      "from sklearn.metrics import confusion_matrix"
     ],
     "language": "python",
     "metadata": {},
     "outputs": [],
     "prompt_number": 1
    },
    {
     "cell_type": "markdown",
     "metadata": {},
     "source": [
      "## Download article data from arXiv"
     ]
    },
    {
     "cell_type": "code",
     "collapsed": false,
     "input": [
      "categories = ['astro-ph.CO',\n",
      "              'astro-ph.EP',\n",
      "              'astro-ph.GA',\n",
      "              'astro-ph.HE',\n",
      "              'astro-ph.IM',\n",
      "              'astro-ph.SR']"
     ],
     "language": "python",
     "metadata": {},
     "outputs": [],
     "prompt_number": 2
    },
    {
     "cell_type": "code",
     "collapsed": false,
     "input": [
      "def download_articles(category):\n",
      "    url = 'http://export.arxiv.org/api/query?'\n",
      "    params = {\n",
      "        'search_query': 'cat:' + category,\n",
      "        'start': 0,\n",
      "        'max_results': 2000\n",
      "    }\n",
      "    queryparams = '&'.join([param+'='+str(value) for param, value in params.items()])\n",
      "    query = url + queryparams\n",
      "    results = requests.get(query)\n",
      "    soup = BeautifulSoup(results.text)\n",
      "    entries = soup.findAll('entry')\n",
      "    \n",
      "    def title(entry):\n",
      "        return entry.findAll('title')[0].text\n",
      "    \n",
      "    def summary(entry):\n",
      "        return entry.findAll('summary')[0].text\n",
      "    \n",
      "    def authors(entry):\n",
      "        # Author item for every author with name sub-items.\n",
      "        return ', '.join([author.findAll('name')[0].text for author in entry.findAll('author')])\n",
      "    \n",
      "    def article_category(entry):\n",
      "        # <category scheme=\"http://arxiv.org/schemas/atom\" term=\"astro-ph.CO\"></category>\n",
      "        return [cat['term'] for cat in entry.findAll('category') if 'astro-ph' in cat['term']][0]\n",
      "    \n",
      "    def pubdate(entry):\n",
      "        return entry.findAll('published')[0].text\n",
      "    \n",
      "    def idurl(entry):\n",
      "        return entry.findAll('id')[0].text\n",
      "    \n",
      "    def get_article(entry):\n",
      "        return {'title': title(entry),\n",
      "                'summary': summary(entry),\n",
      "                'authors': authors(entry),\n",
      "                'category': article_category(entry),\n",
      "                'pubdate': pubdate(entry),\n",
      "                'idurl': idurl(entry)}\n",
      "    \n",
      "    articles = []\n",
      "    \n",
      "    for entry in entries:\n",
      "        try:\n",
      "            articles.append(get_article(entry))\n",
      "        except:\n",
      "            print \"Parsing article failed in category \" + category\n",
      "    \n",
      "    jsondata = {'category': category, 'articles': articles}\n",
      "    with open('articles/'+category+'.json', 'w') as jsonfile:\n",
      "        json.dump(jsondata, jsonfile)"
     ],
     "language": "python",
     "metadata": {},
     "outputs": [],
     "prompt_number": 3
    },
    {
     "cell_type": "code",
     "collapsed": false,
     "input": [
      "# Load all articles into memory.\n",
      "# Use local files if available in articles/ folder,\n",
      "# otherwise download from arXiv.org.\n",
      "all_articles = {}\n",
      "for category in categories:\n",
      "    if category+'.json' not in os.listdir('articles'):\n",
      "        print \"Downloading \" + category\n",
      "        download_articles(category)\n",
      "    \n",
      "    print \"Loading \" + category \n",
      "    with open('articles/'+category+'.json', 'r') as jsonfile:\n",
      "        categoryarticles = json.load(jsonfile)['articles']\n",
      "        \n",
      "    all_articles[category] = categoryarticles\n",
      "\n",
      "# Truncate to size of category with minimum number of articles available.\n",
      "size = min([len(articles) for articles in all_articles.values()])\n",
      "for category, values in all_articles.items():\n",
      "    all_articles[category] = values[:size]"
     ],
     "language": "python",
     "metadata": {},
     "outputs": [
      {
       "output_type": "stream",
       "stream": "stdout",
       "text": [
        "Loading astro-ph.CO\n",
        "Loading astro-ph.EP"
       ]
      },
      {
       "output_type": "stream",
       "stream": "stdout",
       "text": [
        "\n",
        "Loading astro-ph.GA"
       ]
      },
      {
       "output_type": "stream",
       "stream": "stdout",
       "text": [
        "\n",
        "Loading astro-ph.HE\n",
        "Loading astro-ph.IM"
       ]
      },
      {
       "output_type": "stream",
       "stream": "stdout",
       "text": [
        "\n",
        "Loading astro-ph.SR\n"
       ]
      }
     ],
     "prompt_number": 4
    },
    {
     "cell_type": "code",
     "collapsed": false,
     "input": [
      "# Combine all article summaries and categories into a DataFrame.\n",
      "summaries = pd.DataFrame(columns=['summary','category'])\n",
      "\n",
      "def get_summaries(articles):\n",
      "    summaries = [article['summary'] for article in articles]\n",
      "    categories = [article['category'] for article in articles]\n",
      "    return pd.DataFrame({'summary': summaries, 'category': categories})\n",
      "\n",
      "for articles in all_articles.values():\n",
      "    summaries = summaries.append(get_summaries(articles))\n",
      "\n",
      "# Shuffle so categories aren't grouped.\n",
      "summaries = summaries.reset_index(drop=True)\n",
      "summaries = summaries.reindex(np.random.permutation(summaries.index))"
     ],
     "language": "python",
     "metadata": {},
     "outputs": [],
     "prompt_number": 5
    },
    {
     "cell_type": "markdown",
     "metadata": {},
     "source": [
      "## Classify summaries"
     ]
    },
    {
     "cell_type": "code",
     "collapsed": false,
     "input": [
      "# Split shuffled DF into 50/50 train/test data.\n",
      "summaries_train = summaries[:len(summaries)/2]\n",
      "summaries_test = summaries[len(summaries)/2:]"
     ],
     "language": "python",
     "metadata": {},
     "outputs": [],
     "prompt_number": 6
    },
    {
     "cell_type": "markdown",
     "metadata": {},
     "source": [
      "### Naive Bayes"
     ]
    },
    {
     "cell_type": "code",
     "collapsed": false,
     "input": [
      "# Use CountVectorizer.fit_transform() to get vocabulary and transform into sparse matrix.\n",
      "count_vectorizer = CountVectorizer()\n",
      "sparse_counts_train = count_vectorizer.fit_transform(summaries_train['summary'].values)\n",
      "\n",
      "sparse_counts_test = count_vectorizer.transform(summaries_test['summary'].values)\n",
      "\n",
      "# Classify data using MultinomialNB\n",
      "classifier = MultinomialNB()\n",
      "categories_train = summaries_train['category'].values\n",
      "classifier.fit(sparse_counts_train, categories_train)\n",
      "\n",
      "predictions = classifier.predict(sparse_counts_test)\n",
      "confusion = confusion_matrix(summaries_test['category'].values, predictions)\n",
      "print \"NAIVE BAYES RESULTS\"\n",
      "print \"Accuracy: %f\"%(np.sum(predictions == summaries_test['category'].values)/(len(predictions)*1.0))\n",
      "print \"Confusion:\\n\", confusion\n",
      "# Plot large confusion matrix to save for report.\n",
      "confusionplot, ax = plt.subplots(figsize=(10,10))\n",
      "ax.imshow(confusion, interpolation='nearest', cmap=plt.cm.Blues)\n",
      "category_labels = list(np.sort(summaries_test['category'].unique()))\n",
      "category_labels = [label.replace('astro-ph.', '') for label in category_labels]\n",
      "ticks = np.arange(len(category_labels))\n",
      "plt.xticks(ticks, category_labels, fontsize=14)\n",
      "plt.yticks(ticks, category_labels, fontsize=14)\n",
      "plt.ylabel('True', fontsize=16)\n",
      "plt.xlabel('Predicted', fontsize=16)\n",
      "plt.title(\"Confusion\", fontsize=18)\n",
      "plt.savefig('confusion.png')"
     ],
     "language": "python",
     "metadata": {},
     "outputs": [
      {
       "output_type": "stream",
       "stream": "stdout",
       "text": [
        "NAIVE BAYES RESULTS\n",
        "Accuracy: 0.811042\n",
        "Confusion:\n",
        "[[595   3 111  53  25   7]\n",
        " [  1 746  17   1  23  24]\n",
        " [ 82  28 546  47  14  48]\n",
        " [ 18   0  15 698  29  31]\n",
        " [ 15  17  14  30 734  12]\n",
        " [  6  26 127  57  26 574]]\n"
       ]
      },
      {
       "metadata": {},
       "output_type": "display_data",
       "png": "[encoded data removed]",
       "text": [
        "<matplotlib.figure.Figure at 0x106310950>"
       ]
      }
     ],
     "prompt_number": 7
    },
    {
     "cell_type": "markdown",
     "metadata": {},
     "source": [
      "### With tf-idf"
     ]
    },
    {
     "cell_type": "code",
     "collapsed": false,
     "input": [
      "# Use CountVectorizer.fit_transform() to get vocabulary and transform into sparse matrix.\n",
      "# Also apply tf-idf for any possible performance improvements.\n",
      "count_vectorizer_tfidf = CountVectorizer()\n",
      "sparse_counts_train_tfidf = count_vectorizer_tfidf.fit_transform(summaries_train['summary'].values)\n",
      "tfidf_transformer = TfidfTransformer()\n",
      "sparse_counts_train_tfidf = tfidf_transformer.fit_transform(sparse_counts_train_tfidf)\n",
      "\n",
      "sparse_counts_test_tfidf = count_vectorizer_tfidf.transform(summaries_test['summary'].values)\n",
      "sparse_counts_test_tfidf = tfidf_transformer.transform(sparse_counts_test_tfidf)\n",
      "\n",
      "# Classify data using MultinomialNB\n",
      "classifier_tfidf = MultinomialNB()\n",
      "categories_train_tfidf = summaries_train['category'].values\n",
      "classifier_tfidf.fit(sparse_counts_train_tfidf, categories_train_tfidf)\n",
      "\n",
      "predictions_tfidf = classifier.predict(sparse_counts_test_tfidf)\n",
      "confusion_tfidf = confusion_matrix(summaries_test['category'].values, predictions_tfidf)\n",
      "print \"NAIVE BAYES WITH TF-IDF RESULTS\"\n",
      "print \"Accuracy: %f\"%(np.sum(predictions_tfidf == summaries_test['category'].values)/(len(predictions_tfidf)*1.0))\n",
      "print \"Confusion:\\n\", confusion_tfidf\n",
      "plt.imshow(confusion_tfidf, interpolation='nearest', cmap=plt.cm.Blues)"
     ],
     "language": "python",
     "metadata": {},
     "outputs": [
      {
       "output_type": "stream",
       "stream": "stdout",
       "text": [
        "NAIVE BAYES WITH TF-IDF RESULTS\n",
        "Accuracy: 0.812917\n",
        "Confusion:\n",
        "[[593   3 104  55  32   7]\n",
        " [  0 747  10   3  31  21]\n",
        " [ 81  26 537  54  20  47]\n",
        " [ 14   0  12 703  37  25]\n",
        " [ 10  14  10  22 754  12]\n",
        " [  5  24 122  58  39 568]]\n"
       ]
      },
      {
       "metadata": {},
       "output_type": "pyout",
       "prompt_number": 8,
       "text": [
        "<matplotlib.image.AxesImage at 0x10160d090>"
       ]
      },
      {
       "metadata": {},
       "output_type": "display_data",
       "png": "[encoded data removed]",
       "text": [
        "<matplotlib.figure.Figure at 0x1064351d0>"
       ]
      }
     ],
     "prompt_number": 8
    },
    {
     "cell_type": "markdown",
     "metadata": {},
     "source": [
      "### With n-grams"
     ]
    },
    {
     "cell_type": "code",
     "collapsed": false,
     "input": [
      "# Use CountVectorizer.fit_transform() to get vocabulary and transform into sparse matrix.\n",
      "# Use n-grams to see if phrases help.\n",
      "count_vectorizer_ngram = CountVectorizer(ngram_range=(1, 3))\n",
      "sparse_counts_train_ngram = count_vectorizer_ngram.fit_transform(summaries_train['summary'].values)\n",
      "\n",
      "sparse_counts_test_ngram = count_vectorizer_ngram.transform(summaries_test['summary'].values)\n",
      "\n",
      "# Classify data using MultinomialNB\n",
      "classifier_ngram = MultinomialNB()\n",
      "categories_train_ngram = summaries_train['category'].values\n",
      "classifier_ngram.fit(sparse_counts_train_ngram, categories_train_ngram)\n",
      "\n",
      "predictions_ngram = classifier_ngram.predict(sparse_counts_test_ngram)\n",
      "confusion_ngram = confusion_matrix(summaries_test['category'].values, predictions_ngram)\n",
      "print \"NAIVE BAYES WITH N-GRAM RESULTS\"\n",
      "print \"Accuracy: %f\"%(np.sum(predictions_ngram == summaries_test['category'].values)/(len(predictions_ngram)*1.0))\n",
      "print \"Confusion:\\n\", confusion_ngram\n",
      "plt.imshow(confusion_ngram, interpolation='nearest', cmap=plt.cm.Blues)"
     ],
     "language": "python",
     "metadata": {},
     "outputs": [
      {
       "output_type": "stream",
       "stream": "stdout",
       "text": [
        "NAIVE BAYES WITH N-GRAM RESULTS\n",
        "Accuracy: 0.799167\n",
        "Confusion:\n",
        "[[584   2 139  49  13   7]\n",
        " [  0 751  29   1  13  18]\n",
        " [ 73  17 596  41   9  29]\n",
        " [ 25   3  25 699  18  21]\n",
        " [ 23  37  33  40 676  13]\n",
        " [  4  32 181  53  16 530]]\n"
       ]
      },
      {
       "metadata": {},
       "output_type": "pyout",
       "prompt_number": 9,
       "text": [
        "<matplotlib.image.AxesImage at 0x11ed4ce50>"
       ]
      },
      {
       "metadata": {},
       "output_type": "display_data",
       "png": "[encoded data removed]",
       "text": [
        "<matplotlib.figure.Figure at 0x1069702d0>"
       ]
      }
     ],
     "prompt_number": 9
    }
   ],
   "metadata": {}
  }
 ]
}